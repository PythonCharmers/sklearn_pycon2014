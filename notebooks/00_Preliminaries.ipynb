{
 "metadata": {
  "name": "",
  "signature": "sha256:824fadb2bd4259d84c4e458b42b3785faec2532ddb8cb3296a23aedd2434096f"
 },
 "nbformat": 3,
 "nbformat_minor": 0,
 "worksheets": [
  {
   "cells": [
    {
     "cell_type": "markdown",
     "metadata": {},
     "source": [
      "<small><i>Adapted from the notebook created by Jake Vanderplas for PyCon 2014. Source and license info is on [GitHub](https://github.com/jakevdp/sklearn_pycon2014/).</i></small>"
     ]
    },
    {
     "cell_type": "heading",
     "level": 1,
     "metadata": {},
     "source": [
      "An Introduction to scikit-learn: Machine Learning in Python"
     ]
    },
    {
     "cell_type": "heading",
     "level": 2,
     "metadata": {},
     "source": [
      "Goals of this session"
     ]
    },
    {
     "cell_type": "markdown",
     "metadata": {},
     "source": [
      "- **Introduce the basics of Machine Learning**, and some skills useful in practice.\n",
      "- **Introduce the syntax of scikit-learn**, so that you can make use of the rich toolset available."
     ]
    },
    {
     "cell_type": "heading",
     "level": 2,
     "metadata": {},
     "source": [
      "Schedule:"
     ]
    },
    {
     "cell_type": "markdown",
     "metadata": {},
     "source": [
      "Outline:\n",
      "\n",
      "**Basic Principles of Machine Learning and the Scikit-learn Interface**\n",
      "\n",
      "- Machine learning data layout\n",
      "- Supervised Learning\n",
      "    - Classification\n",
      "    - Regression\n",
      "    - Measuring performance\n",
      "- Unsupervised Learning\n",
      "    - Clustering\n",
      "    - Dimensionality Reduction\n",
      "- Evaluation of models\n",
      "- How to choose the right algorithm for your dataset\n",
      "\n",
      "**Supervised learning in-depth**\n",
      "\n",
      "- Two important algorithms: Support Vector Machines and Random Forests\n",
      "- Application: recognizing handwritten digits\n",
      "\n",
      "**Unsupervised learning in-depth**\n",
      "\n",
      "- Two important algorithms: PCA and K Means\n",
      "- Application: image color compression\n",
      "\n",
      "**Validation and Model Selection**\n",
      "\n",
      "- Overfitting, Underfitting, bias, and variance\n",
      "- Improving your fit: validation curves and learning curves\n",
      "- Application: facial recognition"
     ]
    },
    {
     "cell_type": "markdown",
     "metadata": {},
     "source": [
      "### Checking your installation\n",
      "\n",
      "You can run the following code to check the versions of the packages on your system:\n",
      "\n",
      "(in IPython notebook, press `shift` and `return` together to execute the contents of a cell)"
     ]
    },
    {
     "cell_type": "code",
     "collapsed": false,
     "input": [
      "import numpy\n",
      "print('numpy:', numpy.__version__)\n",
      "\n",
      "import scipy\n",
      "print('scipy:', scipy.__version__)\n",
      "\n",
      "import matplotlib\n",
      "print('matplotlib:', matplotlib.__version__)\n",
      "\n",
      "import sklearn\n",
      "print('scikit-learn:', sklearn.__version__)"
     ],
     "language": "python",
     "metadata": {},
     "outputs": [
      {
       "output_type": "stream",
       "stream": "stdout",
       "text": [
        "numpy: 1.9.1\n",
        "scipy: 0.14.0\n",
        "matplotlib: 1.4.0\n",
        "scikit-learn: 0.15.2\n"
       ]
      }
     ],
     "prompt_number": 2
    },
    {
     "cell_type": "heading",
     "level": 2,
     "metadata": {},
     "source": [
      "Useful Resources"
     ]
    },
    {
     "cell_type": "markdown",
     "metadata": {},
     "source": [
      "- **scikit-learn:** http://scikit-learn.org (see especially the narrative documentation)\n",
      "- **matplotlib:** http://matplotlib.org (see especially the gallery section)\n",
      "- **IPython:** http://ipython.org (also check out http://nbviewer.ipython.org)"
     ]
    },
    {
     "cell_type": "code",
     "collapsed": false,
     "input": [],
     "language": "python",
     "metadata": {},
     "outputs": []
    }
   ],
   "metadata": {}
  }
 ]
}